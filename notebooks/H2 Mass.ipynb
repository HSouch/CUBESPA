{
 "cells": [
  {
   "cell_type": "code",
   "execution_count": 1,
   "metadata": {},
   "outputs": [],
   "source": [
    "import sys\n",
    "sys.path.append(\"../\")\n",
    "\n",
    "from photutils.aperture import RectangularAperture, EllipticalAnnulus\n",
    "\n",
    "import cubespa\n",
    "\n",
    "from matplotlib import pyplot as plt\n",
    "import matplotlib.colors as mcolors\n",
    "\n",
    "from matplotlib import interactive\n",
    "\n",
    "import numpy as np\n",
    "\n",
    "from tqdm import tqdm\n",
    "\n",
    "from astropy.io import fits\n",
    "import warnings\n",
    "warnings.filterwarnings(\"ignore\")\n",
    "\n",
    "cubespa.plotting.pyplot_style()\n",
    "\n",
    "from cubespa.plotting import lavender_cmap"
   ]
  },
  {
   "cell_type": "code",
   "execution_count": 35,
   "metadata": {},
   "outputs": [],
   "source": [
    "phangs_fn = \"../personal/NGC4858_12m+7m_co21_pbcorr_crop.fits\"\n",
    "phangs_mms = \"../personal/mm_out_phangs/NGC4858_PHANGS.3.0_1.7\"\n",
    "\n",
    "stellar_ra, stellar_dec = 194.75871125601466, 28.115690196322245\n",
    "\n",
    "phangs = cubespa.CubeSPA(phangs_fn, mom_maps=phangs_mms, limits=\"auto\", center=(stellar_ra, stellar_dec, \"radec\"), eps=0.21, position_angle=120)\n",
    "\n",
    "\n",
    "ecube = cubespa.load_data(\"../personal/mm_out_phangs/NGC4858_PHANGS.3.0_1.7.emom0.fits.gz\")\n",
    "\n",
    "arc_conv = phangs.w\n",
    "kpc_per_pix = \n"
   ]
  },
  {
   "cell_type": "code",
   "execution_count": 36,
   "metadata": {},
   "outputs": [],
   "source": [
    "mom0 = phangs.mom_maps.mom0\n",
    "head = mom0.header\n",
    "\n",
    "beam_area = phangs.beam_area\n",
    "\n",
    "SCO = np.nansum(mom0.data) / beam_area\n",
    "e_SCO = np.nansum(ecube.data) / beam_area\n",
    "\n"
   ]
  },
  {
   "cell_type": "code",
   "execution_count": 48,
   "metadata": {},
   "outputs": [
    {
     "name": "stdout",
     "output_type": "stream",
     "text": [
      "1.9968721213648866 0.11649700782603492\n"
     ]
    }
   ],
   "source": [
    "def LCO21(SCO, rest_freq=230.538, D_L = 102.5, z = 0.0231):\n",
    "    return 3.25e7 * SCO * rest_freq**-2 * D_L**2 * (1 + z) ** -3\n",
    "\n",
    "def M_Molecular(LCO21, alpha=4.3, R_21=0.8):\n",
    "    return 1.34 * alpha / R_21 * LCO21 / 1e9\n",
    "\n",
    "\n",
    "def molecular_mass(SCO):\n",
    "    LCO = LCO21(SCO)\n",
    "    return M_Molecular(LCO)\n",
    "\n",
    "\n",
    "print(molecular_mass(SCO), molecular_mass(e_SCO))\n",
    "\n",
    "\n"
   ]
  },
  {
   "cell_type": "code",
   "execution_count": 70,
   "metadata": {},
   "outputs": [
    {
     "name": "stdout",
     "output_type": "stream",
     "text": [
      "(480, 303) pixels\n",
      "[72.   45.45] arcsec\n",
      "[33.696  21.2706] kpc\n",
      "Velocity bins: 3.810919259978009 km/s\n",
      "\n",
      " BEAM\n",
      "29.59807100578\n",
      "[8.77776747e-01 1.35153374e+00 1.06553056e+05]\n",
      "1.3442355746214931\n"
     ]
    }
   ],
   "source": [
    "pixel_scale = phangs.mom_maps.mom0.header[\"CDELT2\"] * 3600\n",
    "kpc_per_pix = pixel_scale * 0.468\n",
    "\n",
    "\n",
    "\n",
    "print(phangs.mom_maps.mom0.data.shape, \"pixels\")\n",
    "print(np.array(phangs.mom_maps.mom0.data.shape) * pixel_scale, \"arcsec\")\n",
    "print(np.array(phangs.mom_maps.mom0.data.shape) * kpc_per_pix, \"kpc\")\n",
    "\n",
    "print(\"Velocity bins:\", np.mean(np.diff(phangs.velocities)), \"km/s\")\n",
    "\n",
    "\n",
    "\n",
    "print(\"\\n\", \"BEAM\")\n",
    "print(phangs.beam[2])\n",
    "print(np.array(phangs.beam) * 3600)\n",
    "\n",
    "print(phangs.beam_area * pixel_scale ** 2)\n",
    "\n",
    "#print(phangs.beam[0] * phangs.beam[1] / 4 / np.log(2) * 3600**2)"
   ]
  }
 ],
 "metadata": {
  "kernelspec": {
   "display_name": "jelly",
   "language": "python",
   "name": "python3"
  },
  "language_info": {
   "codemirror_mode": {
    "name": "ipython",
    "version": 3
   },
   "file_extension": ".py",
   "mimetype": "text/x-python",
   "name": "python",
   "nbconvert_exporter": "python",
   "pygments_lexer": "ipython3",
   "version": "3.9.18"
  }
 },
 "nbformat": 4,
 "nbformat_minor": 2
}
